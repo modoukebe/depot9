{
  "nbformat": 4,
  "nbformat_minor": 0,
  "metadata": {
    "colab": {
      "name": "geemap.ipynb",
      "provenance": [],
      "collapsed_sections": [],
      "authorship_tag": "ABX9TyMv1Rp8OlD0b2w2u1XUGtDd",
      "include_colab_link": true
    },
    "kernelspec": {
      "name": "python3",
      "display_name": "Python 3"
    }
  },
  "cells": [
    {
      "cell_type": "markdown",
      "metadata": {
        "id": "view-in-github",
        "colab_type": "text"
      },
      "source": [
        "<a href=\"https://colab.research.google.com/github/modoukebe/depot9/blob/main/geemap.ipynb\" target=\"_parent\"><img src=\"https://colab.research.google.com/assets/colab-badge.svg\" alt=\"Open In Colab\"/></a>"
      ]
    },
    {
      "cell_type": "code",
      "metadata": {
        "id": "gm5UumKocZI1"
      },
      "source": [
        "pip install geemap"
      ],
      "execution_count": null,
      "outputs": []
    },
    {
      "cell_type": "code",
      "metadata": {
        "id": "GwQy7FfvehQU"
      },
      "source": [
        "# Check geemap installation\r\n",
        "import subprocess\r\n",
        "\r\n",
        "try:\r\n",
        "    import geemap\r\n",
        "except ImportError:\r\n",
        "    print('geemap package is not installed. Installing ...')\r\n",
        "    subprocess.check_call([\"python\", '-m', 'pip', 'install', 'geemap'])"
      ],
      "execution_count": null,
      "outputs": []
    },
    {
      "cell_type": "code",
      "metadata": {
        "id": "zsqCeoIEe2si"
      },
      "source": [
        "# Import libraries\r\n",
        "import os\r\n",
        "import ee\r\n",
        "import geemap\r\n",
        "import ipywidgets as widgets\r\n",
        "from bqplot import pyplot as plt\r\n",
        "from ipyleaflet import WidgetControl"
      ],
      "execution_count": null,
      "outputs": []
    },
    {
      "cell_type": "code",
      "metadata": {
        "id": "9VA57j7vfJfv"
      },
      "source": [
        "# Create an interactive map\r\n",
        "Map = geemap.Map(center=[40, -100], zoom=4, add_google_map=False)\r\n",
        "Map.add_basemap('HYBRID')\r\n",
        "Map.add_basemap('ROADMAP')\r\n",
        "\r\n",
        "# Add Earth Engine data\r\n",
        "fc = ee.FeatureCollection('TIGER/2018/Counties')\r\n",
        "Map.addLayer(fc, {}, 'US Counties')\r\n",
        "\r\n",
        "states = ee.FeatureCollection('TIGER/2018/States')\r\n",
        "# Map.addLayer(states, {}, 'US States')\r\n",
        "\r\n",
        "Map"
      ],
      "execution_count": null,
      "outputs": []
    }
  ]
}